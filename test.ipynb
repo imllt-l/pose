{
 "cells": [
  {
   "cell_type": "code",
   "execution_count": null,
   "metadata": {},
   "outputs": [],
   "source": [
    "import mmcv\n",
    "from mmcv.ops import get_compiling_cuda_version, get_compiler_version\n",
    "print('MMCV版本', mmcv.__version__)\n",
    "%cd /kaggle/working/mmdetection\n",
    "import mmdet\n",
    "print('mmdetection版本', mmdet.__version__)\n",
    "%cd /kaggle/working/mmpose\n",
    "import mmpose\n",
    "print('mmpose版本', mmpose.__version__)\n",
    "print('CUDA版本', get_compiling_cuda_version())\n",
    "print('编译器版本', get_compiler_version())\n"
   ]
  }
 ],
 "metadata": {
  "language_info": {
   "name": "python"
  }
 },
 "nbformat": 4,
 "nbformat_minor": 2
}
